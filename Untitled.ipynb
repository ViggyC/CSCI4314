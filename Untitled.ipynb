{
 "cells": [
  {
   "cell_type": "code",
   "execution_count": 1,
   "id": "3877de46",
   "metadata": {},
   "outputs": [
    {
     "ename": "ModuleNotFoundError",
     "evalue": "No module named 'scipy'",
     "output_type": "error",
     "traceback": [
      "\u001b[0;31m---------------------------------------------------------------------------\u001b[0m",
      "\u001b[0;31mModuleNotFoundError\u001b[0m                       Traceback (most recent call last)",
      "Input \u001b[0;32mIn [1]\u001b[0m, in \u001b[0;36m<cell line: 4>\u001b[0;34m()\u001b[0m\n\u001b[1;32m      2\u001b[0m \u001b[38;5;28;01mimport\u001b[39;00m \u001b[38;5;21;01mrandom\u001b[39;00m\n\u001b[1;32m      3\u001b[0m \u001b[38;5;28;01mimport\u001b[39;00m \u001b[38;5;21;01mnumpy\u001b[39;00m \u001b[38;5;28;01mas\u001b[39;00m \u001b[38;5;21;01mnp\u001b[39;00m\n\u001b[0;32m----> 4\u001b[0m \u001b[38;5;28;01mfrom\u001b[39;00m \u001b[38;5;21;01mscipy\u001b[39;00m\u001b[38;5;21;01m.\u001b[39;00m\u001b[38;5;21;01mstats\u001b[39;00m \u001b[38;5;28;01mimport\u001b[39;00m levy_stable\n\u001b[1;32m      5\u001b[0m \u001b[38;5;28;01mimport\u001b[39;00m \u001b[38;5;21;01mmatplotlib\u001b[39;00m\u001b[38;5;21;01m.\u001b[39;00m\u001b[38;5;21;01mpatches\u001b[39;00m \u001b[38;5;28;01mas\u001b[39;00m \u001b[38;5;21;01mpatches\u001b[39;00m\n\u001b[1;32m      6\u001b[0m \u001b[38;5;28;01mimport\u001b[39;00m \u001b[38;5;21;01mmatplotlib\u001b[39;00m\u001b[38;5;21;01m.\u001b[39;00m\u001b[38;5;21;01mpyplot\u001b[39;00m \u001b[38;5;28;01mas\u001b[39;00m \u001b[38;5;21;01mplt\u001b[39;00m\n",
      "\u001b[0;31mModuleNotFoundError\u001b[0m: No module named 'scipy'"
     ]
    }
   ],
   "source": [
    "#from turtle import *\n",
    "import random\n",
    "import numpy as np\n",
    "from scipy.stats import levy_stable\n",
    "import matplotlib.patches as patches\n",
    "import matplotlib.pyplot as plt\n",
    "\n",
    "\n",
    "\n",
    "def generate_patch(patch_length):\n",
    "    patch = np.zeros((patch_length,patch_length))\n",
    "    maxstep = 5\n",
    "    minstep = 1\n",
    "    req_area = (patch_length**2)\n",
    "    big_l = int(req_area**.5)\n",
    "    pos=(50,50)\n",
    "    hit = 0\n",
    "    while(hit < req_area):\n",
    "        l = big_l\n",
    "        steps = levy_stable.rvs(alpha=1, beta=0, size=(big_l,2))\n",
    "        for i in range(big_l):\n",
    "            #print(steps[i])\n",
    "            if abs(steps[i][0]) > maxstep:\n",
    "                stepx = maxstep\n",
    "            elif abs(steps[i][0]) < minstep:\n",
    "                stepx = minstep\n",
    "            else:\n",
    "                stepx = steps[i][0]\n",
    "            if abs(steps[i][1]) > maxstep:\n",
    "                stepy = maxstep\n",
    "            elif abs(steps[i][1]) < minstep:\n",
    "                stepy = minstep\n",
    "            else:\n",
    "                stepy = steps[i][1]\n",
    "            newposy = int(pos[0] + stepy)\n",
    "            newposx = int(pos[1] + stepx)\n",
    "            if(newposy >= 100):\n",
    "                newposy = newposy - 100\n",
    "            elif(newposy < 0):\n",
    "                newposy = newposy + 100\n",
    "            if(newposx >= 100):\n",
    "                newposx = newposx - 100\n",
    "            elif(newposx < 0):\n",
    "                newposx = newposx + 100\n",
    "            pos = (newposy, newposx)\n",
    "            if(patch[pos[0]][pos[1]] == 0):\n",
    "                patch[pos[0]][pos[1]] = l\n",
    "                hit += 1\n",
    "            l -= 1\n",
    "    return patch\n",
    "\n",
    "fig = plt.figure()\n",
    "ax = fig.add_subplot(111)\n",
    "\n",
    "patch = generate_patch(100)\n",
    "ax.add_patch(patches.Polygon(patch))\n",
    "#plt.plot(patch)\n"
   ]
  },
  {
   "cell_type": "code",
   "execution_count": null,
   "id": "72987797",
   "metadata": {},
   "outputs": [],
   "source": []
  },
  {
   "cell_type": "code",
   "execution_count": null,
   "id": "2628458c",
   "metadata": {},
   "outputs": [],
   "source": []
  }
 ],
 "metadata": {
  "kernelspec": {
   "display_name": "Python 3 (ipykernel)",
   "language": "python",
   "name": "python3"
  },
  "language_info": {
   "codemirror_mode": {
    "name": "ipython",
    "version": 3
   },
   "file_extension": ".py",
   "mimetype": "text/x-python",
   "name": "python",
   "nbconvert_exporter": "python",
   "pygments_lexer": "ipython3",
   "version": "3.9.10"
  }
 },
 "nbformat": 4,
 "nbformat_minor": 5
}
